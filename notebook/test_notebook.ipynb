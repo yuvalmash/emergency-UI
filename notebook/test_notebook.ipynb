{
 "cells": [
  {
   "cell_type": "markdown",
   "metadata": {
    "toc": true
   },
   "source": [
    "<h1>Table of Contents<span class=\"tocSkip\"></span></h1>\n",
    "<div class=\"toc\"><ul class=\"toc-item\"></ul></div>"
   ]
  },
  {
   "cell_type": "code",
   "execution_count": null,
   "metadata": {},
   "outputs": [],
   "source": [
    "import librosa\n",
    "import sounddevice as sd"
   ]
  },
  {
   "cell_type": "code",
   "execution_count": null,
   "metadata": {},
   "outputs": [],
   "source": [
    "stayin_alive, sr = librosa.load(\"../data/Bee Gees - Stayin' Alive.mp3\", sr=44100)"
   ]
  },
  {
   "cell_type": "code",
   "execution_count": null,
   "metadata": {},
   "outputs": [],
   "source": [
    "sd.play(stayin_alive, sr)"
   ]
  },
  {
   "cell_type": "code",
   "execution_count": null,
   "metadata": {},
   "outputs": [],
   "source": [
    "status = sd.wait()"
   ]
  },
  {
   "cell_type": "code",
   "execution_count": null,
   "metadata": {},
   "outputs": [],
   "source": [
    "sd.stop()"
   ]
  },
  {
   "cell_type": "code",
   "execution_count": null,
   "metadata": {},
   "outputs": [],
   "source": []
  },
  {
   "cell_type": "code",
   "execution_count": 6,
   "metadata": {
    "ExecuteTime": {
     "end_time": "2020-01-22T13:16:29.974036Z",
     "start_time": "2020-01-22T13:16:29.969060Z"
    }
   },
   "outputs": [],
   "source": [
    "import sqlite3\n",
    "from sqlite3 import Error"
   ]
  },
  {
   "cell_type": "code",
   "execution_count": 7,
   "metadata": {
    "ExecuteTime": {
     "end_time": "2020-01-22T13:16:31.049162Z",
     "start_time": "2020-01-22T13:16:31.043179Z"
    }
   },
   "outputs": [],
   "source": [
    "con = sqlite3.connect('../data/stayin_alive.db')\n",
    "con.close()"
   ]
  },
  {
   "cell_type": "code",
   "execution_count": 8,
   "metadata": {
    "ExecuteTime": {
     "end_time": "2020-01-22T13:16:31.769235Z",
     "start_time": "2020-01-22T13:16:31.659529Z"
    }
   },
   "outputs": [],
   "source": [
    "database = \"../data/stayin_alive.db\"\n",
    " \n",
    "sql_create_incident_table = \"\"\" CREATE TABLE IF NOT EXISTS Incidents (\n",
    "                                id integer PRIMARY KEY,\n",
    "                                lat float NOT NULL,\n",
    "                                lon float NOT NULL,\n",
    "                                category text,\n",
    "                                start_time datetime default current_timestamp,\n",
    "                                end_time datetime default current_timestamp\n",
    "                                ); \"\"\"\n",
    "con = sqlite3.connect('../data/stayin_alive.db')\n",
    "cur = con.cursor()\n",
    "cur.execute(sql_create_incident_table)\n",
    "con.close()"
   ]
  },
  {
   "cell_type": "code",
   "execution_count": 10,
   "metadata": {
    "ExecuteTime": {
     "end_time": "2020-01-22T13:19:45.514542Z",
     "start_time": "2020-01-22T13:19:45.133539Z"
    }
   },
   "outputs": [],
   "source": [
    "database = \"../data/stayin_alive.db\"\n",
    " \n",
    "sql_create_media_table = \"\"\" CREATE TABLE IF NOT EXISTS Media (\n",
    "                                id integer PRIMARY KEY,\n",
    "                                path text NOT NULL\n",
    "                                ); \"\"\"\n",
    "con = sqlite3.connect('../data/stayin_alive.db')\n",
    "cur = con.cursor()\n",
    "cur.execute(sql_create_media_table)\n",
    "con.close()"
   ]
  },
  {
   "cell_type": "code",
   "execution_count": 11,
   "metadata": {
    "ExecuteTime": {
     "end_time": "2020-01-22T13:19:46.856930Z",
     "start_time": "2020-01-22T13:19:46.766174Z"
    }
   },
   "outputs": [],
   "source": [
    "database = \"../data/stayin_alive.db\"\n",
    " \n",
    "sql_create_users_table = \"\"\" CREATE TABLE IF NOT EXISTS Users (\n",
    "                                id integer PRIMARY KEY,\n",
    "                                phone_number text UNIQUE NOT NULL\n",
    "                                ); \"\"\"\n",
    "con = sqlite3.connect('../data/stayin_alive.db')\n",
    "cur = con.cursor()\n",
    "cur.execute(sql_create_users_table)\n",
    "con.close()"
   ]
  },
  {
   "cell_type": "code",
   "execution_count": null,
   "metadata": {},
   "outputs": [],
   "source": [
    "database = \"../data/stayin_alive.db\"\n",
    " \n",
    "sql_create_incident_user_table = \"\"\" CREATE TABLE IF NOT EXISTS incident_user (\n",
    "                                id integer PRIMARY KEY AUTOINCREMENT,\n",
    "                                incident_id integer NOT NULL,\n",
    "                                user_id integer NOT NULL,\n",
    "                                key text NOT NULL,\n",
    "                                FOREIGN KEY (incident_id) REFERENCES incidents (id),\n",
    "                                FOREIGN KEY (user_id) REFERENCES users (id)\n",
    "                                ); \"\"\"\n",
    "con = sqlite3.connect('../data/stayin_alive.db')\n",
    "cur = con.cursor()\n",
    "cur.execute(sql_create_incident_user_table)\n",
    "con.close()"
   ]
  }
 ],
 "metadata": {
  "hide_input": false,
  "kernelspec": {
   "display_name": "Python 3",
   "language": "python",
   "name": "python3"
  },
  "language_info": {
   "codemirror_mode": {
    "name": "ipython",
    "version": 3
   },
   "file_extension": ".py",
   "mimetype": "text/x-python",
   "name": "python",
   "nbconvert_exporter": "python",
   "pygments_lexer": "ipython3",
   "version": "3.7.3"
  },
  "toc": {
   "base_numbering": 1,
   "nav_menu": {},
   "number_sections": true,
   "sideBar": true,
   "skip_h1_title": true,
   "title_cell": "Table of Contents",
   "title_sidebar": "Contents",
   "toc_cell": true,
   "toc_position": {},
   "toc_section_display": true,
   "toc_window_display": true
  },
  "varInspector": {
   "cols": {
    "lenName": 16,
    "lenType": 16,
    "lenVar": 40
   },
   "kernels_config": {
    "python": {
     "delete_cmd_postfix": "",
     "delete_cmd_prefix": "del ",
     "library": "var_list.py",
     "varRefreshCmd": "print(var_dic_list())"
    },
    "r": {
     "delete_cmd_postfix": ") ",
     "delete_cmd_prefix": "rm(",
     "library": "var_list.r",
     "varRefreshCmd": "cat(var_dic_list()) "
    }
   },
   "types_to_exclude": [
    "module",
    "function",
    "builtin_function_or_method",
    "instance",
    "_Feature"
   ],
   "window_display": false
  }
 },
 "nbformat": 4,
 "nbformat_minor": 4
}
